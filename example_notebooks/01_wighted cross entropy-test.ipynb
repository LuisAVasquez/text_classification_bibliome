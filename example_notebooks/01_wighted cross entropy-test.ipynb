{
 "cells": [
  {
   "cell_type": "code",
   "execution_count": 1,
   "metadata": {},
   "outputs": [],
   "source": [
    "import json"
   ]
  },
  {
   "cell_type": "code",
   "execution_count": 2,
   "metadata": {},
   "outputs": [],
   "source": [
    "json_args_dict = {\n",
    "    \"model_args\": {\n",
    "        \"bert_model_name\": 'michiyasunaga/BioLinkBERT-base',\n",
    "        \"bert_tokenizer_name\" :'michiyasunaga/BioLinkBERT-base',\n",
    "        \"freeze_base_weights\": False,\n",
    "        \"id2label\": {\"0\": \"irrelevant\", \"1\": \"relevant\"},\n",
    "        \"num_labels\": 2,\n",
    "    },\n",
    "    \"data_args\": {\n",
    "        \"dataframe_path\": \"datasets/split_with_translations.csv\",\n",
    "        \"text_column_name\": \"title_extraction\",\n",
    "        \"labels_column_name\": \"class\",\n",
    "        \"shuffle\": True,\n",
    "        \"downsample\": False,\n",
    "\n",
    "    },\n",
    "    \"tokenizer_args\": {\n",
    "        \"max_length\" : 30,\n",
    "        \"padding\" : 'max_length',\n",
    "        \"truncation\" : True,\n",
    "    },\n",
    "    \"preprocessing_args\": {\n",
    "        \"train_size\": 0.8,\n",
    "        \"dev_size\": 0.1,\n",
    "        \"test_size\": 0.1,\n",
    "    },\n",
    "    \"finetuning_args\": {\n",
    "        ## arguments for a HuggingFace TrainingArguments object.\n",
    "        \"output_dir\": \"multilingual_bert_finetuning_05\",\n",
    "        \"num_train_epochs\": 2,\n",
    "        \"overwrite_output_dir\": True,\n",
    "        \"evaluation_strategy\": \"steps\",\n",
    "        \"eval_steps\": 50,\n",
    "        \"save_strategy\": \"steps\",\n",
    "        \"save_steps\" : 100,\n",
    "        \"learning_rate\": 1e-6,  # 1e-6\n",
    "        \n",
    "        \"per_device_train_batch_size\": 16,\n",
    "        \"per_device_eval_batch_size\": 16,\n",
    "\n",
    "        # weight_decay=0.01,\n",
    "        \"load_best_model_at_end\": True,\n",
    "        \"logging_strategy\": 'steps',\n",
    "        \"logging_steps\": 50,\n",
    "        \"disable_tqdm\": False,\n",
    "        # metric_for_best_model=\"f1\", #defaults to 'loss'\n",
    "        # push_to_hub=True,\n",
    "        \"optim\" :\"adamw_torch\",\n",
    "\n",
    "    }\n",
    "\n",
    "}\n"
   ]
  },
  {
   "cell_type": "code",
   "execution_count": 3,
   "metadata": {},
   "outputs": [],
   "source": [
    "from text_classification_bibliome import bert_finetuning"
   ]
  },
  {
   "cell_type": "code",
   "execution_count": 4,
   "metadata": {},
   "outputs": [
    {
     "name": "stdout",
     "output_type": "stream",
     "text": [
      "Loading dataset\n",
      "Loaded dataset with 8295 entries.\n",
      "Dropping 222 NaN values from dataset, that is, 2.68% of the dataset\n",
      "New dataset size: 8073\n",
      "Loading tokenizer\n",
      "Preprocessing dataset\n"
     ]
    },
    {
     "data": {
      "application/vnd.jupyter.widget-view+json": {
       "model_id": "1bdb3bd888234812b6269560d396836f",
       "version_major": 2,
       "version_minor": 0
      },
      "text/plain": [
       "Map:   0%|          | 0/6458 [00:00<?, ? examples/s]"
      ]
     },
     "metadata": {},
     "output_type": "display_data"
    },
    {
     "data": {
      "application/vnd.jupyter.widget-view+json": {
       "model_id": "c531ceaf666b4b068f8c6aeadf686e49",
       "version_major": 2,
       "version_minor": 0
      },
      "text/plain": [
       "Map:   0%|          | 0/807 [00:00<?, ? examples/s]"
      ]
     },
     "metadata": {},
     "output_type": "display_data"
    },
    {
     "data": {
      "application/vnd.jupyter.widget-view+json": {
       "model_id": "de9b8218ef364e18a3295d2cc16c79ff",
       "version_major": 2,
       "version_minor": 0
      },
      "text/plain": [
       "Map:   0%|          | 0/808 [00:00<?, ? examples/s]"
      ]
     },
     "metadata": {},
     "output_type": "display_data"
    },
    {
     "name": "stdout",
     "output_type": "stream",
     "text": [
      "Loading bert model\n"
     ]
    },
    {
     "name": "stderr",
     "output_type": "stream",
     "text": [
      "Some weights of BertForSequenceClassification were not initialized from the model checkpoint at michiyasunaga/BioLinkBERT-base and are newly initialized: ['classifier.bias', 'classifier.weight']\n",
      "You should probably TRAIN this model on a down-stream task to be able to use it for predictions and inference.\n"
     ]
    },
    {
     "name": "stdout",
     "output_type": "stream",
     "text": [
      "Started fine-tuning...\n"
     ]
    },
    {
     "data": {
      "text/html": [
       "\n",
       "    <div>\n",
       "      \n",
       "      <progress value='5' max='808' style='width:300px; height:20px; vertical-align: middle;'></progress>\n",
       "      [  5/808 00:00 < 01:11, 11.23 it/s, Epoch 0.01/2]\n",
       "    </div>\n",
       "    <table border=\"1\" class=\"dataframe\">\n",
       "  <thead>\n",
       " <tr style=\"text-align: left;\">\n",
       "      <th>Step</th>\n",
       "      <th>Training Loss</th>\n",
       "      <th>Validation Loss</th>\n",
       "    </tr>\n",
       "  </thead>\n",
       "  <tbody>\n",
       "  </tbody>\n",
       "</table><p>"
      ],
      "text/plain": [
       "<IPython.core.display.HTML object>"
      ]
     },
     "metadata": {},
     "output_type": "display_data"
    },
    {
     "name": "stdout",
     "output_type": "stream",
     "text": [
      "Finished fine-tuning\n",
      "CPU times: user 1min 33s, sys: 8.28 s, total: 1min 41s\n",
      "Wall time: 1min 43s\n"
     ]
    }
   ],
   "source": [
    "%%time\n",
    "finetuning_results_dict = bert_finetuning.bibliome_finetune_on_dataset(\n",
    "    json_args_dict\n",
    ")"
   ]
  },
  {
   "cell_type": "code",
   "execution_count": 5,
   "metadata": {},
   "outputs": [
    {
     "name": "stdout",
     "output_type": "stream",
     "text": [
      "multilingual_bert_finetuning_05/checkpoint-300\n"
     ]
    }
   ],
   "source": [
    "checkpoint_dir = finetuning_results_dict[\"best_model_checkpoint_dir\"]\n",
    "print(checkpoint_dir)"
   ]
  },
  {
   "cell_type": "code",
   "execution_count": 6,
   "metadata": {},
   "outputs": [],
   "source": [
    "pipeline = bert_finetuning.bibliome_load_pipeline_from_pretrained(\n",
    "    checkpoint_dir = checkpoint_dir,\n",
    "    all_args_dict_or_path=json_args_dict\n",
    ")"
   ]
  },
  {
   "cell_type": "code",
   "execution_count": 7,
   "metadata": {},
   "outputs": [
    {
     "data": {
      "text/plain": [
       "[[{'label': 'irrelevant', 'score': 0.6164414286613464},\n",
       "  {'label': 'relevant', 'score': 0.3835585117340088}]]"
      ]
     },
     "execution_count": 7,
     "metadata": {},
     "output_type": "execute_result"
    }
   ],
   "source": [
    "pipeline(\n",
    "    \"This is a dummy text\"\n",
    ")"
   ]
  },
  {
   "cell_type": "code",
   "execution_count": 8,
   "metadata": {},
   "outputs": [
    {
     "data": {
      "text/plain": [
       "[[{'label': 'irrelevant', 'score': 0.6164414286613464},\n",
       "  {'label': 'relevant', 'score': 0.3835585117340088}],\n",
       " [{'label': 'irrelevant', 'score': 0.6200186610221863},\n",
       "  {'label': 'relevant', 'score': 0.3799813985824585}]]"
      ]
     },
     "execution_count": 8,
     "metadata": {},
     "output_type": "execute_result"
    }
   ],
   "source": [
    "pipeline(\n",
    "    [\"This is a dummy text\",\n",
    "     \"As plantas são importantes\"\n",
    "     ]\n",
    ")"
   ]
  },
  {
   "attachments": {},
   "cell_type": "markdown",
   "metadata": {},
   "source": [
    "# Check performance on test split"
   ]
  },
  {
   "cell_type": "code",
   "execution_count": 9,
   "metadata": {},
   "outputs": [
    {
     "data": {
      "text/plain": [
       "808"
      ]
     },
     "execution_count": 9,
     "metadata": {},
     "output_type": "execute_result"
    }
   ],
   "source": [
    "# performance on test split\n",
    "\n",
    "test_split = finetuning_results_dict[\"tokenized_encoded_dataset\"][\"test\"]\n",
    "len(test_split)\n"
   ]
  },
  {
   "cell_type": "code",
   "execution_count": 10,
   "metadata": {},
   "outputs": [],
   "source": [
    "pipeline = bert_finetuning.bibliome_load_pipeline_from_pretrained(\n",
    "    checkpoint_dir = checkpoint_dir,\n",
    "    all_args_dict_or_path=json_args_dict\n",
    ")"
   ]
  },
  {
   "cell_type": "code",
   "execution_count": 11,
   "metadata": {},
   "outputs": [
    {
     "data": {
      "text/plain": [
       "[[{'label': 'irrelevant', 'score': 0.6164414286613464},\n",
       "  {'label': 'relevant', 'score': 0.3835585117340088}],\n",
       " [{'label': 'irrelevant', 'score': 0.6200186610221863},\n",
       "  {'label': 'relevant', 'score': 0.3799813985824585}]]"
      ]
     },
     "execution_count": 11,
     "metadata": {},
     "output_type": "execute_result"
    }
   ],
   "source": [
    "# test some strings\n",
    "pipeline([\n",
    "    \"This is a dummy text\",\n",
    "    \"As plantas são importantes\"\n",
    "])\n"
   ]
  },
  {
   "cell_type": "code",
   "execution_count": 12,
   "metadata": {},
   "outputs": [
    {
     "data": {
      "text/plain": [
       "[[{'label': 'irrelevant', 'score': 0.6644464135169983},\n",
       "  {'label': 'relevant', 'score': 0.3355535864830017}]]"
      ]
     },
     "execution_count": 12,
     "metadata": {},
     "output_type": "execute_result"
    }
   ],
   "source": [
    "pipeline(\"hello world\")"
   ]
  },
  {
   "cell_type": "code",
   "execution_count": 13,
   "metadata": {},
   "outputs": [
    {
     "name": "stderr",
     "output_type": "stream",
     "text": [
      "100%|██████████| 808/808 [00:33<00:00, 24.24it/s]\n"
     ]
    }
   ],
   "source": [
    "# make predicitons on the test split\n",
    "from tqdm import tqdm\n",
    "predictions_on_test_split = []\n",
    "for text in tqdm(test_split['text']):\n",
    "    pred = pipeline(text)[0]\n",
    "    predictions_on_test_split.append(pred)\n"
   ]
  },
  {
   "cell_type": "code",
   "execution_count": 14,
   "metadata": {},
   "outputs": [
    {
     "data": {
      "text/plain": [
       "[{'label': 'irrelevant', 'score': 0.5392255187034607},\n",
       " {'label': 'relevant', 'score': 0.4607745409011841}]"
      ]
     },
     "execution_count": 14,
     "metadata": {},
     "output_type": "execute_result"
    }
   ],
   "source": [
    "predictions_on_test_split[0]"
   ]
  },
  {
   "cell_type": "code",
   "execution_count": 15,
   "metadata": {},
   "outputs": [
    {
     "data": {
      "text/plain": [
       "{0: 'irrelevant', 1: 'relevant'}"
      ]
     },
     "execution_count": 15,
     "metadata": {},
     "output_type": "execute_result"
    }
   ],
   "source": [
    "pipeline.model.config.id2label"
   ]
  },
  {
   "cell_type": "code",
   "execution_count": 16,
   "metadata": {},
   "outputs": [
    {
     "data": {
      "text/plain": [
       "{'irrelevant': '0', 'relevant': '1'}"
      ]
     },
     "execution_count": 16,
     "metadata": {},
     "output_type": "execute_result"
    }
   ],
   "source": [
    "pipeline.model.config.label2id"
   ]
  },
  {
   "cell_type": "code",
   "execution_count": 17,
   "metadata": {},
   "outputs": [
    {
     "data": {
      "text/html": [
       "<div>\n",
       "<style scoped>\n",
       "    .dataframe tbody tr th:only-of-type {\n",
       "        vertical-align: middle;\n",
       "    }\n",
       "\n",
       "    .dataframe tbody tr th {\n",
       "        vertical-align: top;\n",
       "    }\n",
       "\n",
       "    .dataframe thead th {\n",
       "        text-align: right;\n",
       "    }\n",
       "</style>\n",
       "<table border=\"1\" class=\"dataframe\">\n",
       "  <thead>\n",
       "    <tr style=\"text-align: right;\">\n",
       "      <th></th>\n",
       "      <th>labels</th>\n",
       "      <th>predictions</th>\n",
       "    </tr>\n",
       "  </thead>\n",
       "  <tbody>\n",
       "    <tr>\n",
       "      <th>0</th>\n",
       "      <td>0</td>\n",
       "      <td>0</td>\n",
       "    </tr>\n",
       "    <tr>\n",
       "      <th>1</th>\n",
       "      <td>0</td>\n",
       "      <td>0</td>\n",
       "    </tr>\n",
       "    <tr>\n",
       "      <th>2</th>\n",
       "      <td>0</td>\n",
       "      <td>1</td>\n",
       "    </tr>\n",
       "    <tr>\n",
       "      <th>3</th>\n",
       "      <td>0</td>\n",
       "      <td>0</td>\n",
       "    </tr>\n",
       "    <tr>\n",
       "      <th>4</th>\n",
       "      <td>0</td>\n",
       "      <td>0</td>\n",
       "    </tr>\n",
       "    <tr>\n",
       "      <th>...</th>\n",
       "      <td>...</td>\n",
       "      <td>...</td>\n",
       "    </tr>\n",
       "    <tr>\n",
       "      <th>803</th>\n",
       "      <td>0</td>\n",
       "      <td>0</td>\n",
       "    </tr>\n",
       "    <tr>\n",
       "      <th>804</th>\n",
       "      <td>0</td>\n",
       "      <td>0</td>\n",
       "    </tr>\n",
       "    <tr>\n",
       "      <th>805</th>\n",
       "      <td>1</td>\n",
       "      <td>1</td>\n",
       "    </tr>\n",
       "    <tr>\n",
       "      <th>806</th>\n",
       "      <td>0</td>\n",
       "      <td>1</td>\n",
       "    </tr>\n",
       "    <tr>\n",
       "      <th>807</th>\n",
       "      <td>0</td>\n",
       "      <td>1</td>\n",
       "    </tr>\n",
       "  </tbody>\n",
       "</table>\n",
       "<p>808 rows × 2 columns</p>\n",
       "</div>"
      ],
      "text/plain": [
       "     labels  predictions\n",
       "0         0            0\n",
       "1         0            0\n",
       "2         0            1\n",
       "3         0            0\n",
       "4         0            0\n",
       "..      ...          ...\n",
       "803       0            0\n",
       "804       0            0\n",
       "805       1            1\n",
       "806       0            1\n",
       "807       0            1\n",
       "\n",
       "[808 rows x 2 columns]"
      ]
     },
     "execution_count": 17,
     "metadata": {},
     "output_type": "execute_result"
    }
   ],
   "source": [
    "# put the true labels and predictions on a dataframe.\n",
    "import pandas as pd\n",
    "\n",
    "results_df = {\n",
    "    # labels must be converted from tensor to list of ints\n",
    "    \"labels\": [int(id) for id in list(test_split[\"labels\"])],\n",
    "\n",
    "    # predictions must be converted from list of label names\n",
    "    # to list of label ids\n",
    "    \"predictions\": [\n",
    "        int(\n",
    "            pipeline.model.config.label2id[item[0]['label']]\n",
    "        )\n",
    "        for item in predictions_on_test_split]\n",
    "}\n",
    "results_df = pd.DataFrame(results_df)\n",
    "results_df\n"
   ]
  },
  {
   "attachments": {},
   "cell_type": "markdown",
   "metadata": {},
   "source": [
    "## Calculating accuracy, precission, recall, and f1"
   ]
  },
  {
   "cell_type": "code",
   "execution_count": 18,
   "metadata": {},
   "outputs": [],
   "source": [
    "# evaluate performance with precision, recall, and f1\n",
    "from sklearn.metrics import precision_recall_fscore_support, accuracy_score"
   ]
  },
  {
   "cell_type": "code",
   "execution_count": 19,
   "metadata": {},
   "outputs": [
    {
     "data": {
      "text/plain": [
       "(0.16201117318435754, 0.6590909090909091, 0.2600896860986547, None)"
      ]
     },
     "execution_count": 19,
     "metadata": {},
     "output_type": "execute_result"
    }
   ],
   "source": [
    "precision_recall_fscore_support(\n",
    "    y_true=results_df['labels'],\n",
    "    y_pred=results_df['predictions'],\n",
    "    average='binary'\n",
    ")\n"
   ]
  },
  {
   "cell_type": "code",
   "execution_count": 20,
   "metadata": {},
   "outputs": [
    {
     "data": {
      "text/plain": [
       "0.5915841584158416"
      ]
     },
     "execution_count": 20,
     "metadata": {},
     "output_type": "execute_result"
    }
   ],
   "source": [
    "accuracy_score(\n",
    "    y_true=results_df['labels'],\n",
    "    y_pred=results_df['predictions'],\n",
    ")\n"
   ]
  },
  {
   "attachments": {},
   "cell_type": "markdown",
   "metadata": {},
   "source": [
    "# Plots"
   ]
  },
  {
   "cell_type": "code",
   "execution_count": 21,
   "metadata": {},
   "outputs": [],
   "source": [
    "import matplotlib.pyplot as plt\n",
    "import json\n",
    "import os"
   ]
  },
  {
   "cell_type": "code",
   "execution_count": 22,
   "metadata": {},
   "outputs": [
    {
     "data": {
      "text/plain": [
       "'multilingual_bert_finetuning_05/checkpoint-800'"
      ]
     },
     "execution_count": 22,
     "metadata": {},
     "output_type": "execute_result"
    }
   ],
   "source": [
    "last_model_checkpoint_dir = finetuning_results_dict[\"last_model_checkpoint_dir\"]\n",
    "last_model_checkpoint_dir"
   ]
  },
  {
   "cell_type": "code",
   "execution_count": 23,
   "metadata": {},
   "outputs": [],
   "source": [
    "with open(os.path.join(last_model_checkpoint_dir, \"trainer_state.json\"), 'r') as f:\n",
    "    trainer_state = json.load(f)"
   ]
  },
  {
   "cell_type": "code",
   "execution_count": 24,
   "metadata": {},
   "outputs": [],
   "source": [
    "def get_metric_evolution(trainer_state, metric_name):\n",
    "    \n",
    "    metric_evolution =  [\n",
    "        ( entry['step'], entry[metric_name] )  \n",
    "        for entry in trainer_state['log_history'] \n",
    "        if (entry.get(metric_name) or entry.get(metric_name) == 0.0)\n",
    "\n",
    "    ] \n",
    "\n",
    "    return metric_evolution"
   ]
  },
  {
   "cell_type": "code",
   "execution_count": 25,
   "metadata": {},
   "outputs": [],
   "source": [
    "def plot_metric_evolution(trainer_state, metric_name):\n",
    "    metric_evolution = get_metric_evolution(trainer_state, metric_name)\n",
    "    plt.scatter(*zip(*metric_evolution))\n",
    "    plt.title(f'Training evolution of {metric_name}')\n",
    "    plt.xlabel('Steps')\n",
    "    plt.ylabel(f'{metric_name}')\n",
    "    plt.show()\n"
   ]
  },
  {
   "cell_type": "code",
   "execution_count": 26,
   "metadata": {},
   "outputs": [
    {
     "data": {
      "image/png": "[encoded data removed]",
      "text/plain": [
       "<Figure size 640x480 with 1 Axes>"
      ]
     },
     "metadata": {},
     "output_type": "display_data"
    }
   ],
   "source": [
    "plot_metric_evolution(trainer_state, \"eval_accuracy\")"
   ]
  },
  {
   "cell_type": "code",
   "execution_count": 27,
   "metadata": {},
   "outputs": [
    {
     "data": {
      "image/png": "[encoded data removed]",
      "text/plain": [
       "<Figure size 640x480 with 1 Axes>"
      ]
     },
     "metadata": {},
     "output_type": "display_data"
    }
   ],
   "source": [
    "plot_metric_evolution(trainer_state, \"eval_recall\")"
   ]
  },
  {
   "cell_type": "code",
   "execution_count": 28,
   "metadata": {},
   "outputs": [
    {
     "data": {
      "image/png": "[encoded data removed]",
      "text/plain": [
       "<Figure size 640x480 with 1 Axes>"
      ]
     },
     "metadata": {},
     "output_type": "display_data"
    }
   ],
   "source": [
    "plot_metric_evolution(trainer_state, \"eval_precision\")"
   ]
  },
  {
   "cell_type": "code",
   "execution_count": 29,
   "metadata": {},
   "outputs": [
    {
     "data": {
      "image/png": "[encoded data removed]",
      "text/plain": [
       "<Figure size 640x480 with 1 Axes>"
      ]
     },
     "metadata": {},
     "output_type": "display_data"
    }
   ],
   "source": [
    "plot_metric_evolution(trainer_state, \"eval_f1\")"
   ]
  },
  {
   "cell_type": "code",
   "execution_count": 30,
   "metadata": {},
   "outputs": [
    {
     "data": {
      "image/png": "[encoded data removed]",
      "text/plain": [
       "<Figure size 640x480 with 1 Axes>"
      ]
     },
     "metadata": {},
     "output_type": "display_data"
    }
   ],
   "source": [
    "plot_metric_evolution(trainer_state, \"eval_loss\")"
   ]
  },
  {
   "cell_type": "code",
   "execution_count": 31,
   "metadata": {},
   "outputs": [
    {
     "data": {
      "image/png": "[encoded data removed]",
      "text/plain": [
       "<Figure size 640x480 with 1 Axes>"
      ]
     },
     "metadata": {},
     "output_type": "display_data"
    }
   ],
   "source": [
    "plot_metric_evolution(trainer_state, \"loss\")"
   ]
  },
  {
   "cell_type": "code",
   "execution_count": null,
   "metadata": {},
   "outputs": [],
   "source": []
  }
 ],
 "metadata": {
  "kernelspec": {
   "display_name": "bertenv",
   "language": "python",
   "name": "python3"
  },
  "language_info": {
   "codemirror_mode": {
    "name": "ipython",
    "version": 3
   },
   "file_extension": ".py",
   "mimetype": "text/x-python",
   "name": "python",
   "nbconvert_exporter": "python",
   "pygments_lexer": "ipython3",
   "version": "3.9.2"
  },
  "orig_nbformat": 4,
  "vscode": {
   "interpreter": {
    "hash": "40b81092cc91c7d25c950dee7aac1076ba1ce8bfb426ad65453f91e76bb23205"
   }
  }
 },
 "nbformat": 4,
 "nbformat_minor": 2
}
