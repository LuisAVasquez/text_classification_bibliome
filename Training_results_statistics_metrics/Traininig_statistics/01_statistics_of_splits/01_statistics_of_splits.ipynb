{
 "cells": [
  {
   "cell_type": "code",
   "execution_count": 1,
   "metadata": {},
   "outputs": [],
   "source": [
    "import pandas as pd\n",
    "import os \n",
    "import json"
   ]
  },
  {
   "cell_type": "code",
   "execution_count": 2,
   "metadata": {},
   "outputs": [],
   "source": [
    "splits_dir = \"/mnt/beegfs/home/vasquez_reina/alvisnlp/lv_stage/datasets/clean_pesv_preprocessed/split\""
   ]
  },
  {
   "cell_type": "code",
   "execution_count": 3,
   "metadata": {},
   "outputs": [
    {
     "data": {
      "text/plain": [
       "['pet_200',\n",
       " 'pet_100',\n",
       " 'pet_500',\n",
       " 'balanced_dev_train',\n",
       " 'pet_1000',\n",
       " 'unbalanced',\n",
       " 'pet_50']"
      ]
     },
     "execution_count": 3,
     "metadata": {},
     "output_type": "execute_result"
    }
   ],
   "source": [
    "os.listdir(splits_dir)"
   ]
  },
  {
   "cell_type": "markdown",
   "metadata": {},
   "source": [
    "# Scratch"
   ]
  },
  {
   "cell_type": "code",
   "execution_count": 5,
   "metadata": {},
   "outputs": [],
   "source": [
    "test_df_path = \"/mnt/beegfs/home/vasquez_reina/alvisnlp/lv_stage/datasets/clean_pesv_preprocessed/split/pet_50/parsed_trafilatura_abstract/dev.csv\""
   ]
  },
  {
   "cell_type": "code",
   "execution_count": 6,
   "metadata": {},
   "outputs": [],
   "source": [
    "test_df = pd.read_csv(test_df_path)"
   ]
  },
  {
   "cell_type": "code",
   "execution_count": 12,
   "metadata": {},
   "outputs": [
    {
     "data": {
      "text/plain": [
       "{0: 848, 1: 848}"
      ]
     },
     "execution_count": 12,
     "metadata": {},
     "output_type": "execute_result"
    }
   ],
   "source": [
    "test_df['has_subject'].value_counts().to_dict()"
   ]
  },
  {
   "cell_type": "markdown",
   "metadata": {},
   "source": [
    "# Get statistics"
   ]
  },
  {
   "cell_type": "code",
   "execution_count": 14,
   "metadata": {},
   "outputs": [],
   "source": [
    "CONTENT_NAME_TO_FULL_NAME = {\n",
    " 'Title': \"parsed_trafilatura_title\",\n",
    " 'Abstract': \"parsed_trafilatura_abstract\",\n",
    " 'Full text': \"parsed_trafilatura_fulltext\",\n",
    " 'Translated Title': \"translation_title\",\n",
    " 'Phrases with Keywords (Abstract)': \"sentence_with_keywords_parsed_trafilatura_abstract_only_relevant_sentences\",\n",
    " 'Phrases with Keywords + O.C (Abstract)': \"sentence_with_keywords_parsed_trafilatura_abstract_keep_original_content\",\n",
    " 'Phrases with Keywords (Full text)': \"sentence_with_keywords_parsed_trafilatura_fulltext_only_relevant_sentences\",\n",
    " 'Phrases with Keywords + O.C (Full text)': \"sentence_with_keywords_parsed_trafilatura_fulltext_keep_original_content\",\n",
    "}\n"
   ]
  },
  {
   "cell_type": "code",
   "execution_count": 13,
   "metadata": {},
   "outputs": [],
   "source": [
    "def get_total_pos_neg_count(df_path):\n",
    "    df = pd.read_csv(df_path)\n",
    "\n",
    "    pos_neg_counts = df['has_subject'].value_counts().to_dict()\n",
    "    pos_count = pos_neg_counts[1]\n",
    "    neg_count = pos_neg_counts[0]\n",
    "    size = len(df)\n",
    "    return (size, pos_count, neg_count)"
   ]
  },
  {
   "cell_type": "code",
   "execution_count": 34,
   "metadata": {},
   "outputs": [],
   "source": [
    "def get_statistics_for_training_method(\n",
    "    trainig_method,\n",
    "    dir      \n",
    "):\n",
    "    dir = os.path.join(dir, trainig_method)\n",
    "    results_dict = {\"Content Source\": []}\n",
    "\n",
    "    expected_splits = [\"train\", \"dev\", \"test\"]\n",
    "    quantities = (\"Size\", \"Positives\", \"Negatives\")  \n",
    "\n",
    "    if \"pet\" in trainig_method.lower():\n",
    "        expected_splits.append(\"unlabeled\")\n",
    "\n",
    "    results_dict.update(\n",
    "        dict(\n",
    "            (f\"{split_name.capitalize()} - {quantity}\",[]) \n",
    "            for split_name in expected_splits \n",
    "            for quantity in quantities\n",
    "        )\n",
    "    )\n",
    "\n",
    "    \n",
    "    for content_name, content_full_name in CONTENT_NAME_TO_FULL_NAME.items():\n",
    "        splits_dir_for_content = os.path.join(\n",
    "            dir,\n",
    "            content_full_name\n",
    "        )\n",
    "\n",
    "\n",
    "        results_dict[\"Content Source\"].append(content_name)\n",
    "        \n",
    "\n",
    "        for split in os.listdir(splits_dir_for_content):\n",
    "            split_path = os.path.join(splits_dir_for_content, split)\n",
    "            split_name = split.removesuffix(\".csv\")\n",
    "\n",
    "            size, pos, neg = get_total_pos_neg_count(split_path)\n",
    "\n",
    "            for quantity, value in zip(quantities, (size, pos, neg)):\n",
    "\n",
    "                results_dict[f\"{split_name.capitalize()} - {quantity}\"].append(value)\n",
    "\n",
    "\n",
    "    results_df = pd.DataFrame(results_dict)\n",
    "    #results_df = results_df.set_index(\"Content Source\")\n",
    "\n",
    "    return results_df\n",
    "\n"
   ]
  },
  {
   "cell_type": "code",
   "execution_count": 35,
   "metadata": {},
   "outputs": [
    {
     "data": {
      "text/html": [
       "<div>\n",
       "<style scoped>\n",
       "    .dataframe tbody tr th:only-of-type {\n",
       "        vertical-align: middle;\n",
       "    }\n",
       "\n",
       "    .dataframe tbody tr th {\n",
       "        vertical-align: top;\n",
       "    }\n",
       "\n",
       "    .dataframe thead th {\n",
       "        text-align: right;\n",
       "    }\n",
       "</style>\n",
       "<table border=\"1\" class=\"dataframe\">\n",
       "  <thead>\n",
       "    <tr style=\"text-align: right;\">\n",
       "      <th></th>\n",
       "      <th>Content Source</th>\n",
       "      <th>Train - Size</th>\n",
       "      <th>Train - Positives</th>\n",
       "      <th>Train - Negatives</th>\n",
       "      <th>Dev - Size</th>\n",
       "      <th>Dev - Positives</th>\n",
       "      <th>Dev - Negatives</th>\n",
       "      <th>Test - Size</th>\n",
       "      <th>Test - Positives</th>\n",
       "      <th>Test - Negatives</th>\n",
       "    </tr>\n",
       "  </thead>\n",
       "  <tbody>\n",
       "    <tr>\n",
       "      <th>0</th>\n",
       "      <td>Title</td>\n",
       "      <td>12976</td>\n",
       "      <td>6488</td>\n",
       "      <td>6488</td>\n",
       "      <td>1622</td>\n",
       "      <td>811</td>\n",
       "      <td>811</td>\n",
       "      <td>1621</td>\n",
       "      <td>230</td>\n",
       "      <td>1391</td>\n",
       "    </tr>\n",
       "    <tr>\n",
       "      <th>1</th>\n",
       "      <td>Abstract</td>\n",
       "      <td>13578</td>\n",
       "      <td>6789</td>\n",
       "      <td>6789</td>\n",
       "      <td>1696</td>\n",
       "      <td>848</td>\n",
       "      <td>848</td>\n",
       "      <td>1696</td>\n",
       "      <td>234</td>\n",
       "      <td>1462</td>\n",
       "    </tr>\n",
       "    <tr>\n",
       "      <th>2</th>\n",
       "      <td>Full text</td>\n",
       "      <td>18028</td>\n",
       "      <td>9014</td>\n",
       "      <td>9014</td>\n",
       "      <td>2252</td>\n",
       "      <td>1126</td>\n",
       "      <td>1126</td>\n",
       "      <td>2252</td>\n",
       "      <td>274</td>\n",
       "      <td>1978</td>\n",
       "    </tr>\n",
       "    <tr>\n",
       "      <th>3</th>\n",
       "      <td>Translated Title</td>\n",
       "      <td>13086</td>\n",
       "      <td>6543</td>\n",
       "      <td>6543</td>\n",
       "      <td>1634</td>\n",
       "      <td>817</td>\n",
       "      <td>817</td>\n",
       "      <td>1634</td>\n",
       "      <td>227</td>\n",
       "      <td>1407</td>\n",
       "    </tr>\n",
       "    <tr>\n",
       "      <th>4</th>\n",
       "      <td>Phrases with Keywords (Abstract)</td>\n",
       "      <td>3240</td>\n",
       "      <td>1620</td>\n",
       "      <td>1620</td>\n",
       "      <td>404</td>\n",
       "      <td>202</td>\n",
       "      <td>202</td>\n",
       "      <td>404</td>\n",
       "      <td>108</td>\n",
       "      <td>296</td>\n",
       "    </tr>\n",
       "    <tr>\n",
       "      <th>5</th>\n",
       "      <td>Phrases with Keywords + O.C (Abstract)</td>\n",
       "      <td>13466</td>\n",
       "      <td>6733</td>\n",
       "      <td>6733</td>\n",
       "      <td>1682</td>\n",
       "      <td>841</td>\n",
       "      <td>841</td>\n",
       "      <td>1682</td>\n",
       "      <td>227</td>\n",
       "      <td>1455</td>\n",
       "    </tr>\n",
       "    <tr>\n",
       "      <th>6</th>\n",
       "      <td>Phrases with Keywords (Full text)</td>\n",
       "      <td>11486</td>\n",
       "      <td>5743</td>\n",
       "      <td>5743</td>\n",
       "      <td>1434</td>\n",
       "      <td>717</td>\n",
       "      <td>717</td>\n",
       "      <td>1434</td>\n",
       "      <td>222</td>\n",
       "      <td>1212</td>\n",
       "    </tr>\n",
       "    <tr>\n",
       "      <th>7</th>\n",
       "      <td>Phrases with Keywords + O.C (Full text)</td>\n",
       "      <td>16704</td>\n",
       "      <td>8352</td>\n",
       "      <td>8352</td>\n",
       "      <td>2088</td>\n",
       "      <td>1044</td>\n",
       "      <td>1044</td>\n",
       "      <td>2087</td>\n",
       "      <td>253</td>\n",
       "      <td>1834</td>\n",
       "    </tr>\n",
       "  </tbody>\n",
       "</table>\n",
       "</div>"
      ],
      "text/plain": [
       "                            Content Source  Train - Size  Train - Positives   \n",
       "0                                    Title         12976               6488  \\\n",
       "1                                 Abstract         13578               6789   \n",
       "2                                Full text         18028               9014   \n",
       "3                         Translated Title         13086               6543   \n",
       "4         Phrases with Keywords (Abstract)          3240               1620   \n",
       "5   Phrases with Keywords + O.C (Abstract)         13466               6733   \n",
       "6        Phrases with Keywords (Full text)         11486               5743   \n",
       "7  Phrases with Keywords + O.C (Full text)         16704               8352   \n",
       "\n",
       "   Train - Negatives  Dev - Size  Dev - Positives  Dev - Negatives   \n",
       "0               6488        1622              811              811  \\\n",
       "1               6789        1696              848              848   \n",
       "2               9014        2252             1126             1126   \n",
       "3               6543        1634              817              817   \n",
       "4               1620         404              202              202   \n",
       "5               6733        1682              841              841   \n",
       "6               5743        1434              717              717   \n",
       "7               8352        2088             1044             1044   \n",
       "\n",
       "   Test - Size  Test - Positives  Test - Negatives  \n",
       "0         1621               230              1391  \n",
       "1         1696               234              1462  \n",
       "2         2252               274              1978  \n",
       "3         1634               227              1407  \n",
       "4          404               108               296  \n",
       "5         1682               227              1455  \n",
       "6         1434               222              1212  \n",
       "7         2087               253              1834  "
      ]
     },
     "execution_count": 35,
     "metadata": {},
     "output_type": "execute_result"
    }
   ],
   "source": [
    "get_statistics_for_training_method(\n",
    "    \"balanced_dev_train\",\n",
    "    splits_dir\n",
    ")"
   ]
  },
  {
   "cell_type": "code",
   "execution_count": 36,
   "metadata": {},
   "outputs": [],
   "source": [
    "for training_method in os.listdir(splits_dir):\n",
    "\n",
    "    df = get_statistics_for_training_method(\n",
    "        training_method,\n",
    "        splits_dir\n",
    "    )\n",
    "\n",
    "    df.to_csv(\n",
    "        f\"{training_method}_splits_stats.csv\"\n",
    "    )"
   ]
  },
  {
   "cell_type": "code",
   "execution_count": null,
   "metadata": {},
   "outputs": [],
   "source": []
  }
 ],
 "metadata": {
  "kernelspec": {
   "display_name": "bertenv",
   "language": "python",
   "name": "python3"
  },
  "language_info": {
   "codemirror_mode": {
    "name": "ipython",
    "version": 3
   },
   "file_extension": ".py",
   "mimetype": "text/x-python",
   "name": "python",
   "nbconvert_exporter": "python",
   "pygments_lexer": "ipython3",
   "version": "3.9.16"
  },
  "orig_nbformat": 4
 },
 "nbformat": 4,
 "nbformat_minor": 2
}
